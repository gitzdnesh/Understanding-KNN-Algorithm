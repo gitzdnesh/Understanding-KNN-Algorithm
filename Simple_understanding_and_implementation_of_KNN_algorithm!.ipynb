{
  "cells": [
    {
      "cell_type": "markdown",
      "source": [
        "## Impimenting K Nearest Neighbours Algorithm"
      ],
      "metadata": {
        "id": "PsDlFeATUiUU"
      },
      "id": "PsDlFeATUiUU"
    },
    {
      "cell_type": "markdown",
      "source": [
        "### Prepare Data "
      ],
      "metadata": {
        "id": "eOegE01CURrO"
      },
      "id": "eOegE01CURrO"
    },
    {
      "cell_type": "code",
      "execution_count": 55,
      "id": "511def13",
      "metadata": {
        "id": "511def13"
      },
      "outputs": [],
      "source": [
        "import numpy as np                                        # import numpys\n",
        "import matplotlib.pyplot as plt                           # import matplotlib visual package\n",
        "\n",
        "from sklearn.datasets import make_classification          # Import an sklearn data set called make_classification\n",
        "from sklearn.model_selection import train_test_split      # Use this to split the data randomly to two sets of data\n",
        "from sklearn.preprocessing import StandardScaler          # to be used to standardize our numerical values\n",
        "\n",
        "from sklearn.neighbors import KNeighborsClassifier        # import KNN classifier\n",
        "\n",
        "from sklearn import metrics                               # find accuarcy of your models"
      ]
    },
    {
      "cell_type": "code",
      "execution_count": 59,
      "id": "0fed8c11",
      "metadata": {
        "colab": {
          "base_uri": "https://localhost:8080/"
        },
        "id": "0fed8c11",
        "outputId": "8c86f11a-7e62-4a5f-bc2a-90dbcaacf831"
      },
      "outputs": [
        {
          "output_type": "execute_result",
          "data": {
            "text/plain": [
              "(160, 8)"
            ]
          },
          "metadata": {},
          "execution_count": 59
        }
      ],
      "source": [
        "X, y = make_classification(n_samples = 200, n_features = 8, n_informative = 8, n_redundant = 0, n_classes =2,random_state = 14)     # Assign the loaded data \n",
        "X_train, X_test, y_train, y_test = train_test_split(X, y, test_size = 0.2, random_state = 32)                                       # Split the data set\n",
        "\n",
        "sc = StandardScaler()               # Create an instance for the scaler\n",
        "sc.fit(X_train)                     # fit the standardized values\n",
        "X_train = sc.transform(X_train)     # transform to the new values\n",
        "\n",
        "sc.fit(X_test)                      # fit the test data too\n",
        "X_test = sc.transform(X_test)       # X-test to be assigned the scaled values\n",
        "X_train.shape                       # inspect the shape of our data to ensure consistency\n",
        "\n"
      ]
    },
    {
      "cell_type": "code",
      "source": [
        "np.argwhere(np.isnan(X))"
      ],
      "metadata": {
        "colab": {
          "base_uri": "https://localhost:8080/"
        },
        "id": "dduNiRH4p3Ln",
        "outputId": "1200c23b-ce03-4253-d729-6b98b3541dd4"
      },
      "id": "dduNiRH4p3Ln",
      "execution_count": 65,
      "outputs": [
        {
          "output_type": "execute_result",
          "data": {
            "text/plain": [
              "array([], shape=(0, 2), dtype=int64)"
            ]
          },
          "metadata": {},
          "execution_count": 65
        }
      ]
    },
    {
      "cell_type": "markdown",
      "source": [
        "#### Find value of K"
      ],
      "metadata": {
        "id": "D1hMdkiUUySk"
      },
      "id": "D1hMdkiUUySk"
    },
    {
      "cell_type": "markdown",
      "source": [
        "Use error curves to get the best K value to use"
      ],
      "metadata": {
        "id": "PbGuCm_IVJks"
      },
      "id": "PbGuCm_IVJks"
    },
    {
      "cell_type": "code",
      "execution_count": 57,
      "id": "9c2dd212",
      "metadata": {
        "colab": {
          "base_uri": "https://localhost:8080/",
          "height": 296
        },
        "id": "9c2dd212",
        "outputId": "e62f970b-11d7-447b-9a9a-200e7435a927"
      },
      "outputs": [
        {
          "output_type": "execute_result",
          "data": {
            "text/plain": [
              "<matplotlib.legend.Legend at 0x7f216ac0be90>"
            ]
          },
          "metadata": {},
          "execution_count": 57
        },
        {
          "output_type": "display_data",
          "data": {
            "text/plain": [
              "<Figure size 432x288 with 1 Axes>"
            ],
            "image/png": "[encoded data removed]"
          },
          "metadata": {
            "needs_background": "light"
          }
        }
      ],
      "source": [
        "error1 = []\n",
        "error2 = []                         # Create two error lists to store error values\n",
        "\n",
        "for k in range(1, 15):\n",
        "  knn = KNeighborsClassifier(n_neighbors = k)   # Create an instance for each value of K\n",
        "  knn.fit(X_train, y_train)                     \n",
        "\n",
        "  y_pred1 = knn.predict(X_train)\n",
        "  error1.append(np.mean(y_train != y_pred1))    # find mean of all results to find error rate\n",
        "\n",
        "  y_pred2 =knn.predict(X_test)\n",
        "  error2.append(np.mean(y_test != y_pred2))     # find error rate for test data too\n",
        "\n",
        "# Plot this graph of train and test error rates\n",
        "\n",
        "plt.plot(range(1, 15), error1, label = \"Train\") # plot train data error rates\n",
        "\n",
        "plt.plot(range(1,15), error2, label = \"Test\")   # plot test data error rates\n",
        "\n",
        "plt.xlabel(\"k Values\")                          # put labels to both axes\n",
        "plt.ylabel('Error')\n",
        "\n",
        "plt.legend()                                    #key\n",
        "  \n"
      ]
    },
    {
      "cell_type": "markdown",
      "source": [
        "**Lets use K as 7 where the error rate for test data is least**"
      ],
      "metadata": {
        "id": "ZREFauEuoX2R"
      },
      "id": "ZREFauEuoX2R"
    },
    {
      "cell_type": "code",
      "execution_count": 58,
      "id": "f397e11f",
      "metadata": {
        "colab": {
          "base_uri": "https://localhost:8080/"
        },
        "id": "f397e11f",
        "outputId": "c6da1d99-0df7-420a-d6dc-ef0149fc6884"
      },
      "outputs": [
        {
          "output_type": "execute_result",
          "data": {
            "text/plain": [
              "0.9"
            ]
          },
          "metadata": {},
          "execution_count": 58
        }
      ],
      "source": [
        "knn = KNeighborsClassifier(n_neighbors = 7)     # define K as inspected above\n",
        "knn.fit(X_train, y_train)                       # fit the model\n",
        "\n",
        "y_pred = knn.predict(X_test)                    # predict your variables using this model\n",
        "\n",
        "metrics.accuracy_score(y_test, y_pred)          # test your models accuracy\n"
      ]
    },
    {
      "cell_type": "code",
      "source": [
        ""
      ],
      "metadata": {
        "id": "nhOOUnSho6WC"
      },
      "id": "nhOOUnSho6WC",
      "execution_count": 58,
      "outputs": []
    }
  ],
  "metadata": {
    "kernelspec": {
      "display_name": "Python 3",
      "language": "python",
      "name": "python3"
    },
    "language_info": {
      "codemirror_mode": {
        "name": "ipython",
        "version": 3
      },
      "file_extension": ".py",
      "mimetype": "text/x-python",
      "name": "python",
      "nbconvert_exporter": "python",
      "pygments_lexer": "ipython3",
      "version": "3.8.8"
    },
    "colab": {
      "name": "Simple understanding and implementation of KNN algorithm!.ipynb",
      "provenance": [],
      "collapsed_sections": [],
      "toc_visible": true
    }
  },
  "nbformat": 4,
  "nbformat_minor": 5
}